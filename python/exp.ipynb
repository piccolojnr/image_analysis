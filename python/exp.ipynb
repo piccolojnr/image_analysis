{
 "cells": [
  {
   "cell_type": "code",
   "execution_count": 6,
   "metadata": {},
   "outputs": [
    {
     "data": {
      "image/png": "[encoded data removed]",
      "text/plain": [
       "<PIL.JpegImagePlugin.JpegImageFile image mode=RGB size=30x45 at 0x7F51345B91E0>"
      ]
     },
     "execution_count": 6,
     "metadata": {},
     "output_type": "execute_result"
    }
   ],
   "source": [
    "import sys, os\n",
    "from PIL import Image\n",
    "img =  Image.open(\"images/img-7.jpg\")\n",
    "img"
   ]
  },
  {
   "cell_type": "code",
   "execution_count": null,
   "metadata": {},
   "outputs": [],
   "source": [
    "pix = img.load()\n",
    "\n",
    "dict_ = []\n",
    "y = 0\n",
    "while y<img.height:\n",
    "    x = 0\n",
    "    tmp = []\n",
    "    while x < img.width:\n",
    "        if pix[x,y]==(255, 255, 255):\n",
    "            tmp.append((255,0,0))\n",
    "        else:\n",
    "            tmp.append(pix[x,y])\n",
    "        x+=1\n",
    "    dict_.append(tmp)\n",
    "    y+=1\n"
   ]
  },
  {
   "cell_type": "code",
   "execution_count": null,
   "metadata": {},
   "outputs": [],
   "source": [
    "import json\n",
    "with open(\"pix2.json\", \"w\") as f:\n",
    "    f.write(json.dumps(dict_))"
   ]
  }
 ],
 "metadata": {
  "kernelspec": {
   "display_name": "Python 3.10.4 64-bit",
   "language": "python",
   "name": "python3"
  },
  "language_info": {
   "codemirror_mode": {
    "name": "ipython",
    "version": 3
   },
   "file_extension": ".py",
   "mimetype": "text/x-python",
   "name": "python",
   "nbconvert_exporter": "python",
   "pygments_lexer": "ipython3",
   "version": "3.10.4"
  },
  "orig_nbformat": 4,
  "vscode": {
   "interpreter": {
    "hash": "916dbcbb3f70747c44a77c7bcd40155683ae19c65e1c03b4aa3499c5328201f1"
   }
  }
 },
 "nbformat": 4,
 "nbformat_minor": 2
}
